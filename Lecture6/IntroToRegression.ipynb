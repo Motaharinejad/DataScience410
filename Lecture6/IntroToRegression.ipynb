{
 "cells": [
  {
   "cell_type": "markdown",
   "metadata": {},
   "source": [
    "# Introduction to Regression\n",
    "\n",
    "### Data Science 410\n",
    "\n",
    "\n",
    "## Introduction\n",
    "\n",
    "The method of regression is one of the oldest and most widely used analytics methods. The goal of regression is to produce a model that represents the **best fit** to some observed data. Typically the model is a function describing some type of curve (lines, parabolas, etc.) that is determined by a set of parameters (e.g., slope and intercept). *Best fit* means that there is an optimal set of parameters which minimize an error criteria we choose.\n",
    "\n",
    "Regression models attempt to predict the value of one variable, known as the **dependent variable**, **response variable** or **label**, using the values of other variables, known as **independent variables**, **explanatory variables** or **features**. **Single regression** has one label used to predict one feature. **Multiple regression** uses two of more feature variables to predict a label. \n",
    "\n",
    "Many machine learning models, including some of the latest deep learning methods, are a form of regression. **Linear regression** is the foundational form of regression. Linear regression minimizes squared error of the predictions of the dependent variable using the values of the independent variables. This approach is know as the **method of least squares**.\n",
    "\n",
    "By developing an understanding of linear regression, you are building a foundation to understand many other machine learning models. Nearly all machine learning methods suffer from the same problems, including over-fitting and mathematically unstable fitting methods. Understanding these problems in the linear regression context will help you work with other machine learning models.  "
   ]
  },
  {
   "cell_type": "markdown",
   "metadata": {},
   "source": [
    "## History\n",
    "\n",
    "Regression is based on the method of least squares or the method of minimum mean square error. The idea of averaging errors have been applied for nearly three centuries. The fist known publication of a *method of averages* was by the German astronomer Tobias Mayer in 1750. Lapace used a similar method which he published in 1788.\n",
    "\n",
    "<img src=\"img/TobiasMayer.jpg\" alt=\"TobiasMayer\" style=\"width: 200px;\"/>\n",
    "\n",
    "The first publication of the **method or least squares** was by the French mathematician Adrien-Marie Legendre in 1805. Legendre was a brilliant mathematician, known for his unpleasant personality.  \n",
    "\n",
    "![](img/Legendre.jpg)\n",
    "<center>Caricature of Legendre, published method of least squares</center>\n",
    "\n",
    "It is very likely that the German physicist and mathematician Gauss developed the method of least squares as early as 1795, but did not publish the method until 1809, aside from a reference in a letter in 1799. Gauss never disputed Legendre's priority in publication. Legendre did not return the favor, and opposed any notion that Gauss had used the method earlier. \n",
    "\n",
    "![](img/Carl_Friedrich_Gauss.jpg)\n",
    "<center>Carl Friedrich Gauss, early adopter of the least squares method</center>\n",
    "\n",
    "The first use of the term **regression** was by Francis Gaulton, a cousin of Charles Darwin, in 1886. Gaulton was interested in determining which traits of plants and animals, including humans, could be said to be inherited. Gaulton used the term **regression to the mean** to describe the natural processes he observed in inherited traits.  \n",
    "\n",
    "<img src=\"img/Francis_Galton.jpg\" alt=\"Drawing\" style=\"width:225px; height:250px\"/>\n",
    "<center>Francis Galton, inventor of regression</center>\n",
    "\n",
    "While Gaulton invented a modern form regression, it fell to Karl Pearson to put regression and multiple regression on a firm mathematical footing. Pearson's 1898 publication proposed a method of regression as we understand it today. \n",
    "\n",
    "Many others have expanded the theory of regression in the 120 years since Pearson's paper. Notably, Joseph Berkson published the logistic regression method in 1944, one of the first classification algorithms. In recent times the interest in machine learning has lead to a rapid increase in the numbers and types of regression models. "
   ]
  },
  {
   "cell_type": "markdown",
   "metadata": {},
   "source": [
    "## Introduction to Theory of Linear Regression\n",
    "\n",
    "We will focus on the theory of **linear models**, which are foundational. Key properties of linear models include:\n",
    "- Derived with linear algebra.\n",
    "- Include any model **linear in coefficients**, including polynomials, splines, Gaussian kernels and many other nonlinear function.    \n",
    "- Understanding linear models is basis for understanding behavior many other statistical or machine learning models.\n",
    "- Basis of many time series models.\n",
    "\n"
   ]
  },
  {
   "cell_type": "markdown",
   "metadata": {},
   "source": [
    "### Linear model of a strait line\n",
    "\n",
    "Let's have a look at the simple case of a regression model for a straight line. For this example we will work with single regression with one feature and one label. The data are in the form of some number of values pairs, $\\{x_i,y_i \\}$. \n",
    "\n",
    "The goal of this regression model is to find a straight that best fits the observed data. We can define the line by two coefficients or **parameters**, the **slope** and the **intercept**. A general representation of this parameterization of a straight line is illustrated in the figure below.\n",
    "\n",
    "<img src=\"img/ymxb.jpg\" alt=\"y_equals_mx_plus_b\" style=\"width: 450px;\"/>\n",
    "<center>**Single regression model**</center>\n",
    "\n",
    "Where,  \n",
    "\n",
    "\\begin{align}\n",
    "m &= slope = \\frac{rise}{run} = \\frac{\\delta y}{\\delta x}\\\\\n",
    "and\\\\\n",
    "y &= b\\ at\\ x = 0\n",
    "\\end{align}\n",
    "\n",
    "\n",
    "For each of the pairs of observed values, ${x_i,y_i}$, we can write the equation for the line with the errors as:\n",
    "\n",
    "\\begin{align}\n",
    "y_i &= mx_i + b + \\epsilon_i \\\\\n",
    "where \\\\\n",
    "\\epsilon_i &= error\n",
    "\\end{align}\n",
    "\n",
    "We can visualize these errors as shown in the figure below.\n",
    "\n",
    "<img src=\"img/LSRegression.jpg\" alt=\"LSRegression\" style=\"width: 450px;\"/>\n",
    "<center>Example of least squares regression with errors shown as vertical lines</center>\n",
    "\n",
    "We want to solve for $m$ and $b$ by minimizing the error, $\\epsilon_i$. We call this **least squares regression** problem.\n",
    "\n",
    "$$min \\Sigma_i \\epsilon^2 = min \\Sigma_i{ (y_i - (mx_i + b))^2}$$\n",
    "\n",
    "There are lots of computationally efficient algorithms for finding minimums of equations. "
   ]
  },
  {
   "cell_type": "markdown",
   "metadata": {},
   "source": [
    "## Linear regression assumptions\n",
    "\n",
    "Now we should discuss a few key assumptions of linear regression. Keep these points in mind whenever you use these models. \n",
    "\n",
    "1. There is a **linear relationship** between dependent variable and the **coefficients** of the independent variables. This does not mean the function approximation used must be linear. Only that the model must be linear in the coefficients. \n",
    "2. Measurement error is independent and random. Technically, we say that the error is **independent identical distribution, or iid**.\n",
    "3. Errors arise from the dependent variable only. Other models, such as complete regression, must be used if there are errors in the independent variable. \n",
    "The diagram below illustrates the iid errors for the dependent variable only.\n",
    "\n",
    "![](img/IndependentErrors.jpg)\n",
    "\n",
    "4. There is no **multicolinearity** between the features or independent variables. In other words, there is no significant correlation between the features.\n",
    "5. The **residuals** are **homoscedastic** (constant variance).  In other words, the errors are the same across all values of the independent variables. We have explore this concept further."
   ]
  },
  {
   "cell_type": "markdown",
   "metadata": {},
   "source": [
    "## A First Regression Model\n",
    "\n",
    "Let's give regression a try. The code in the cell below computes data pairs along a straight line. Normally distributed noise is added to the data values. Run this code and examine the head of the data frame."
   ]
  },
  {
   "cell_type": "code",
   "execution_count": 127,
   "metadata": {},
   "outputs": [],
   "source": [
    "import numpy as np\n",
    "import numpy.random as nr\n",
    "import pandas as pd\n",
    "import statsmodels.formula.api as sm\n",
    "import scipy.stats as ss\n",
    "import matplotlib.pyplot as plt\n",
    "import seaborn as sns\n",
    "%matplotlib inline"
   ]
  },
  {
   "cell_type": "code",
   "execution_count": 128,
   "metadata": {},
   "outputs": [
    {
     "data": {
      "text/html": [
       "<div>\n",
       "<style scoped>\n",
       "    .dataframe tbody tr th:only-of-type {\n",
       "        vertical-align: middle;\n",
       "    }\n",
       "\n",
       "    .dataframe tbody tr th {\n",
       "        vertical-align: top;\n",
       "    }\n",
       "\n",
       "    .dataframe thead th {\n",
       "        text-align: right;\n",
       "    }\n",
       "</style>\n",
       "<table border=\"1\" class=\"dataframe\">\n",
       "  <thead>\n",
       "    <tr style=\"text-align: right;\">\n",
       "      <th></th>\n",
       "      <th>x</th>\n",
       "      <th>y</th>\n",
       "    </tr>\n",
       "  </thead>\n",
       "  <tbody>\n",
       "    <tr>\n",
       "      <th>0</th>\n",
       "      <td>0.000000</td>\n",
       "      <td>1.475868</td>\n",
       "    </tr>\n",
       "    <tr>\n",
       "      <th>1</th>\n",
       "      <td>0.204082</td>\n",
       "      <td>0.915564</td>\n",
       "    </tr>\n",
       "    <tr>\n",
       "      <th>2</th>\n",
       "      <td>0.408163</td>\n",
       "      <td>2.216802</td>\n",
       "    </tr>\n",
       "    <tr>\n",
       "      <th>3</th>\n",
       "      <td>0.612245</td>\n",
       "      <td>1.362557</td>\n",
       "    </tr>\n",
       "    <tr>\n",
       "      <th>4</th>\n",
       "      <td>0.816327</td>\n",
       "      <td>3.521151</td>\n",
       "    </tr>\n",
       "  </tbody>\n",
       "</table>\n",
       "</div>"
      ],
      "text/plain": [
       "          x         y\n",
       "0  0.000000  1.475868\n",
       "1  0.204082  0.915564\n",
       "2  0.408163  2.216802\n",
       "3  0.612245  1.362557\n",
       "4  0.816327  3.521151"
      ]
     },
     "execution_count": 128,
     "metadata": {},
     "output_type": "execute_result"
    }
   ],
   "source": [
    "# Paramters of generated data\n",
    "n_points = 50\n",
    "x_start, x_end = 0, 10\n",
    "y_start, y_end = 0, 10\n",
    "y_sd = 1\n",
    "\n",
    "# Generate data columns\n",
    "nr.seed(5666)\n",
    "x_data = np.linspace(x_start, x_end, n_points) # The x values\n",
    "y_error = np.random.normal(loc=0, scale=y_sd, size=n_points) # The Normally distributed noise\n",
    "y_data = np.linspace(y_start, y_end, n_points) + y_error + 1.0 # The y values including an intercept\n",
    "\n",
    "# Put data in dataframe\n",
    "sim_data = pd.DataFrame({'x':x_data, 'y':y_data})\n",
    "\n",
    "sim_data.head()"
   ]
  },
  {
   "cell_type": "markdown",
   "metadata": {},
   "source": [
    "Next, you can visualize these data by executing the code in the cell below. Notice that the points nearly fall on a straight line."
   ]
  },
  {
   "cell_type": "code",
   "execution_count": 129,
   "metadata": {},
   "outputs": [
    {
     "data": {
      "text/plain": [
       "(0, 11)"
      ]
     },
     "execution_count": 129,
     "metadata": {},
     "output_type": "execute_result"
    },
    {
     "data": {
      "image/png": "[encoded data removed]",
      "text/plain": [
       "<Figure size 432x288 with 1 Axes>"
      ]
     },
     "metadata": {
      "needs_background": "light"
     },
     "output_type": "display_data"
    }
   ],
   "source": [
    "# Matplotlib may give some font errors when loading for the first time, you can ignore these\n",
    "plt.plot(sim_data['x'], sim_data['y'], 'ko')\n",
    "plt.grid(True)\n",
    "plt.xlabel('x')\n",
    "plt.ylabel('y')\n",
    "plt.title('x vs y')\n",
    "plt.ylim(0,11)"
   ]
  },
  {
   "cell_type": "markdown",
   "metadata": {},
   "source": [
    "###  Fitting a Linear Regression Model\n",
    "\n",
    "Now, you are ready to build and evaluate a regression model using Python. There are a number of Python libraries that contain linear modeling capabilities.\n",
    "\n",
    "The [scikit-learn](https://scikit-learn.org/stable/) package has many different types of machine learning algorithms. Scikit-lean model interfaces take a machine learning perspective. The data arguments for Scikit-learn models are numpy arrays which must be dimensioned properly.\n",
    "\n",
    "Another Python package with linear model capability is [statsmodels](https://www.statsmodels.org/stable/index.html). This package takes a statistical perspective, which we adopt here. A nice feature of statsmodels is that the data argument is a Pandas data frame. \n",
    "\n",
    "You can specify statsmodels models using the [R-style model language](https://www.statsmodels.org/devel/example_formulas.html). If you are not familiar with the R model language interface, read the summary below before proceeding. For those that have experience with the programming language, R, statsmodels will seem the most similar because it provides a R-like model language interface. \n",
    "\n"
   ]
  },
  {
   "cell_type": "markdown",
   "metadata": {},
   "source": [
    "> **R-Style Model Formulas**    \n",
    "> The code in the cell below uses an R style model formula. This modeling language was introduced in [Chambers and Hastie, 1992, Statistical Models in S](https://www.taylorfrancis.com/books/e/9780203738535).     \n",
    "\n",
    "> For a good [**cheatsheet and summary of the R modeling language**](http://faculty.chicagobooth.edu/richard.hahn/teaching/formulanotation.pdf) look at the posting by Richard Hahn of the Chicago Booth School.    \n",
    "\n",
    "> Models are defined by an equation using the $\\sim$ symbol to mean *modeled by*. In summary, the variable to be modeled is always on the left. The relationship between the variable to be modeled on the right. This basic scheme can be written: \n",
    "\n",
    "$$dependent\\ variable\\sim indepenent\\ variables$$\n",
    "\n",
    "> For example, if the dependent variable (dv) is modeled by two independent variables (var1 and var2), with no interaction, the formula would be:\n",
    "$$dv \\sim var1 + var2$$"
   ]
  },
  {
   "cell_type": "markdown",
   "metadata": {},
   "source": [
    "In our case, there is only one independent variable and one dependent variable. The code in the cell below does the following:  \n",
    "\n",
    "- The model formula is specified as $y \\sim x$.\n",
    "- An [ols (ordinary least squares)](http://www.statsmodels.org/stable/generated/statsmodels.regression.linear_model.OLS.html#statsmodels.regression.linear_model.OLS) model object is specified using the model formula and the data frame. Here, we use the lower case *ols* function so that the model language can be specified in the call. \n",
    "- The *fit* method is applied to the ols object. \n",
    "- The slope and intercept point estimates are printed. \n",
    "\n",
    "Execute this code and note the coefficient values."
   ]
  },
  {
   "cell_type": "code",
   "execution_count": 130,
   "metadata": {},
   "outputs": [
    {
     "name": "stdout",
     "output_type": "stream",
     "text": [
      "Intercept = 1.306  Slope = 0.941\n"
     ]
    }
   ],
   "source": [
    "## Define the regresson model and fit it to the data\n",
    "ols_model = sm.ols(formula = 'y ~ x', data=sim_data).fit()\n",
    "\n",
    "## Print the model coefficient\n",
    "print('Intercept = %4.3f  Slope = %4.3f' % (ols_model._results.params[0], ols_model._results.params[1]))"
   ]
  },
  {
   "cell_type": "markdown",
   "metadata": {},
   "source": [
    "The intercept and slope are close to the actual values of 1.0 and 1.0. However, we need a more thorough examination of the results before we can say this is a good model for these data.  \n",
    "\n",
    "As a first step toward evaluating this model, we can compute the predicted values of y given the values of x. Execute the code in the cell below which uses the *predict* method to compute these predicted values. "
   ]
  },
  {
   "cell_type": "code",
   "execution_count": 131,
   "metadata": {},
   "outputs": [
    {
     "data": {
      "text/html": [
       "<div>\n",
       "<style scoped>\n",
       "    .dataframe tbody tr th:only-of-type {\n",
       "        vertical-align: middle;\n",
       "    }\n",
       "\n",
       "    .dataframe tbody tr th {\n",
       "        vertical-align: top;\n",
       "    }\n",
       "\n",
       "    .dataframe thead th {\n",
       "        text-align: right;\n",
       "    }\n",
       "</style>\n",
       "<table border=\"1\" class=\"dataframe\">\n",
       "  <thead>\n",
       "    <tr style=\"text-align: right;\">\n",
       "      <th></th>\n",
       "      <th>x</th>\n",
       "      <th>y</th>\n",
       "      <th>predicted</th>\n",
       "    </tr>\n",
       "  </thead>\n",
       "  <tbody>\n",
       "    <tr>\n",
       "      <th>0</th>\n",
       "      <td>0.000000</td>\n",
       "      <td>1.475868</td>\n",
       "      <td>1.305594</td>\n",
       "    </tr>\n",
       "    <tr>\n",
       "      <th>1</th>\n",
       "      <td>0.204082</td>\n",
       "      <td>0.915564</td>\n",
       "      <td>1.497657</td>\n",
       "    </tr>\n",
       "    <tr>\n",
       "      <th>2</th>\n",
       "      <td>0.408163</td>\n",
       "      <td>2.216802</td>\n",
       "      <td>1.689720</td>\n",
       "    </tr>\n",
       "    <tr>\n",
       "      <th>3</th>\n",
       "      <td>0.612245</td>\n",
       "      <td>1.362557</td>\n",
       "      <td>1.881783</td>\n",
       "    </tr>\n",
       "    <tr>\n",
       "      <th>4</th>\n",
       "      <td>0.816327</td>\n",
       "      <td>3.521151</td>\n",
       "      <td>2.073846</td>\n",
       "    </tr>\n",
       "    <tr>\n",
       "      <th>5</th>\n",
       "      <td>1.020408</td>\n",
       "      <td>0.818881</td>\n",
       "      <td>2.265908</td>\n",
       "    </tr>\n",
       "    <tr>\n",
       "      <th>6</th>\n",
       "      <td>1.224490</td>\n",
       "      <td>3.096915</td>\n",
       "      <td>2.457971</td>\n",
       "    </tr>\n",
       "    <tr>\n",
       "      <th>7</th>\n",
       "      <td>1.428571</td>\n",
       "      <td>2.631663</td>\n",
       "      <td>2.650034</td>\n",
       "    </tr>\n",
       "    <tr>\n",
       "      <th>8</th>\n",
       "      <td>1.632653</td>\n",
       "      <td>2.074532</td>\n",
       "      <td>2.842097</td>\n",
       "    </tr>\n",
       "    <tr>\n",
       "      <th>9</th>\n",
       "      <td>1.836735</td>\n",
       "      <td>2.897740</td>\n",
       "      <td>3.034160</td>\n",
       "    </tr>\n",
       "  </tbody>\n",
       "</table>\n",
       "</div>"
      ],
      "text/plain": [
       "          x         y  predicted\n",
       "0  0.000000  1.475868   1.305594\n",
       "1  0.204082  0.915564   1.497657\n",
       "2  0.408163  2.216802   1.689720\n",
       "3  0.612245  1.362557   1.881783\n",
       "4  0.816327  3.521151   2.073846\n",
       "5  1.020408  0.818881   2.265908\n",
       "6  1.224490  3.096915   2.457971\n",
       "7  1.428571  2.631663   2.650034\n",
       "8  1.632653  2.074532   2.842097\n",
       "9  1.836735  2.897740   3.034160"
      ]
     },
     "execution_count": 131,
     "metadata": {},
     "output_type": "execute_result"
    }
   ],
   "source": [
    "# Add predicted to pandas dataframe\n",
    "sim_data['predicted'] = ols_model.predict(sim_data.x)\n",
    "# View head of data frame\n",
    "sim_data.head(10)"
   ]
  },
  {
   "cell_type": "markdown",
   "metadata": {},
   "source": [
    "For a single regression model, we can plot the values of the predicted line along with the actual data values on a 2-dimensional plot. For models with multiple features, [partial regression plots](https://en.wikipedia.org/wiki/Partial_regression_plot) can be created, but are more complex to understand. \n",
    "\n",
    "Execute the code in the cell below to create the plot and examine the results. "
   ]
  },
  {
   "cell_type": "code",
   "execution_count": 132,
   "metadata": {},
   "outputs": [
    {
     "data": {
      "image/png": "[encoded data removed]",
      "text/plain": [
       "<Figure size 432x288 with 1 Axes>"
      ]
     },
     "metadata": {
      "needs_background": "light"
     },
     "output_type": "display_data"
    }
   ],
   "source": [
    "ax = sns.lineplot(x='x', y='predicted', data=sim_data, color='red')\n",
    "sns.scatterplot(x='x', y='y', data=sim_data, ax=ax)\n",
    "_=ax.set_ylim(0,11)"
   ]
  },
  {
   "cell_type": "markdown",
   "metadata": {},
   "source": [
    "So far, so good. The predicted regression line does seem to fit the data well. But, how can we quantify the performance of this model? "
   ]
  },
  {
   "cell_type": "markdown",
   "metadata": {},
   "source": [
    "### Evaluation of regression models\n",
    "\n",
    "Now that you have built a regression model, let's look at how you can quantitatively evaluate the performance of a regression model. There is no one metric that can be used to evaluate a linear model, or any other type of machine learning model. Here as in any other case, we will in fact use multiple metrics to evaluate the linear regression model. \n",
    "\n",
    "The evaluation of regression models is based on measurements of the errors. The errors of a regression model can be visualized as shown in the figure below. \n",
    "\n",
    "<img src=\"img/Errors.jpg\" alt=\"Regression_Errors\" style=\"width: 450px;\"/>\n",
    "<center>Measuring errors for a regression model</center>  \n",
    "    \n",
    "    \n",
    "Let's start with the observed values of the feature, $X$, and label, $Y$.      \n",
    "\n",
    "\\begin{align}\n",
    "X &= [x_1, x_2, \\ldots, x_n]\\\\\n",
    "Y &= [y_1, y_2, \\ldots, y_n]\\\\\n",
    "where\\\\\n",
    "x_i &= ith\\ feature\\ value\\\\\n",
    "y_i &= ith\\ label\\ value\\\\\n",
    "\\end{align}\n",
    "\n",
    "The results of the regression model are **estimates** which we write:   \n",
    "\n",
    "\\begin{align}\n",
    "\\bar{Y} &= mean(Y)\\\\\n",
    "\\hat{y_i} &= regression\\ estimate\\ of\\ y_i\n",
    "\\end{align}  \n",
    "\n",
    "Given the above we can define the follow **sum of squares** relationships:   \n",
    "\n",
    "\\begin{align}\n",
    "SSE &= sum\\ square\\ explained\\ = \\Sigma_i{(\\hat{y_i} - \\bar{Y})^2}\\\\\n",
    "SSR &= sum\\ square\\ residual\\ = \\Sigma_i{(y_i - \\hat{y_i})^2}\\\\\n",
    "SST &= sum\\ square\\ total\\ = \\Sigma_i(y_i - \\bar{Y})^2 \\\\\n",
    "SST &= SSR + SSE\n",
    "\\end{align}"
   ]
  },
  {
   "cell_type": "markdown",
   "metadata": {},
   "source": [
    "The goal of regression is to minimize the residual error, $SSR$. In other words, when fitting the model we wish to explain the maximum amount of the variance in the original data. We can quantify the **faction of squared error explained** with the **coefficient of determination** also known as $R^2$. We can express $R^2$ as follows:\n",
    "\n",
    "$$R^2 = 1 - \\frac{SSR}{SST}$$\n",
    "\n",
    "The $R^2$ for a perfect model would behave as follows:   \n",
    "\n",
    "\\begin{align}\n",
    "SSR &\\rightarrow 0\\\\\n",
    "which\\ leads\\ to \\\\\n",
    "R^2 &\\rightarrow 1\n",
    "\\end{align}\n",
    "\n",
    "In words, a model which perfectly explains the data has $R^2 = 1$. A model which does not explain the data at all has: \n",
    "\n",
    "\\begin{align}\n",
    "SSR &= SST \\\\ \n",
    "and \\\\ \n",
    "R^2 &= 0\n",
    "\\end{align}\n"
   ]
  },
  {
   "cell_type": "markdown",
   "metadata": {},
   "source": [
    "However, there are two problems with $R^2$. </center>\n",
    " - $R^2$ is not bias adjusted for degrees of freedom.\n",
    " - More importantly, there is no adjustment for the number of model parameters. As the number of model parameters increases $SSR$ will generally decrease. Without an adjustment you will get a false sense of model performance.    \n",
    " \n",
    "To addresses these related issues, we use **adjusted $R^2$**.\n",
    "\n",
    "\\begin{align}\n",
    "R^2_{adj} &= 1 - \\frac{\\frac{SSR}{df_{SSR}}}{\\frac{SST}{df_{SST}}} = 1 - \\frac{var_{residual}}{var_{total}}\\\\\n",
    "where\\\\\n",
    "df_{SSR} &= SSR\\ degrees\\ of\\ freedom\\\\\n",
    "df_{SST} &= SST\\ degrees\\ of\\ freedom\n",
    "\\end{align}\n",
    "\n",
    "This gives $R^2_{adj}$ as:\n",
    "\n",
    "\\begin{align}\n",
    "R^2_{adj} &= 1 - (1 - R^2) \\frac{n - 1}{n - k}\\\\ \n",
    "where\\\\\n",
    "n &= number\\ of\\ data\\ samples\\\\\n",
    "k &= number\\ of\\ model\\ coefficients\n",
    "\\end{align}\n",
    "\n",
    "Or, we can rewrite $R^2_{adj}$ as:\n",
    "\n",
    "$$R^2_{adj} =  1.0 - \\frac{SSR}{SST}  \\frac{n - 1}{n - 1 - k}$$\n",
    "\n"
   ]
  },
  {
   "cell_type": "markdown",
   "metadata": {},
   "source": [
    "You can see an extensive summary of the fit of the linear model with the *summary* method. Execute the code in the cell below and examine the output. "
   ]
  },
  {
   "cell_type": "code",
   "execution_count": 133,
   "metadata": {},
   "outputs": [
    {
     "data": {
      "text/html": [
       "<table class=\"simpletable\">\n",
       "<caption>OLS Regression Results</caption>\n",
       "<tr>\n",
       "  <th>Dep. Variable:</th>            <td>y</td>        <th>  R-squared:         </th> <td>   0.907</td>\n",
       "</tr>\n",
       "<tr>\n",
       "  <th>Model:</th>                   <td>OLS</td>       <th>  Adj. R-squared:    </th> <td>   0.905</td>\n",
       "</tr>\n",
       "<tr>\n",
       "  <th>Method:</th>             <td>Least Squares</td>  <th>  F-statistic:       </th> <td>   469.5</td>\n",
       "</tr>\n",
       "<tr>\n",
       "  <th>Date:</th>             <td>Sat, 15 Feb 2020</td> <th>  Prob (F-statistic):</th> <td>1.97e-26</td>\n",
       "</tr>\n",
       "<tr>\n",
       "  <th>Time:</th>                 <td>19:33:36</td>     <th>  Log-Likelihood:    </th> <td> -64.907</td>\n",
       "</tr>\n",
       "<tr>\n",
       "  <th>No. Observations:</th>      <td>    50</td>      <th>  AIC:               </th> <td>   133.8</td>\n",
       "</tr>\n",
       "<tr>\n",
       "  <th>Df Residuals:</th>          <td>    48</td>      <th>  BIC:               </th> <td>   137.6</td>\n",
       "</tr>\n",
       "<tr>\n",
       "  <th>Df Model:</th>              <td>     1</td>      <th>                     </th>     <td> </td>   \n",
       "</tr>\n",
       "<tr>\n",
       "  <th>Covariance Type:</th>      <td>nonrobust</td>    <th>                     </th>     <td> </td>   \n",
       "</tr>\n",
       "</table>\n",
       "<table class=\"simpletable\">\n",
       "<tr>\n",
       "      <td></td>         <th>coef</th>     <th>std err</th>      <th>t</th>      <th>P>|t|</th>  <th>[0.025</th>    <th>0.975]</th>  \n",
       "</tr>\n",
       "<tr>\n",
       "  <th>Intercept</th> <td>    1.3056</td> <td>    0.252</td> <td>    5.180</td> <td> 0.000</td> <td>    0.799</td> <td>    1.812</td>\n",
       "</tr>\n",
       "<tr>\n",
       "  <th>x</th>         <td>    0.9411</td> <td>    0.043</td> <td>   21.668</td> <td> 0.000</td> <td>    0.854</td> <td>    1.028</td>\n",
       "</tr>\n",
       "</table>\n",
       "<table class=\"simpletable\">\n",
       "<tr>\n",
       "  <th>Omnibus:</th>       <td> 0.850</td> <th>  Durbin-Watson:     </th> <td>   2.312</td>\n",
       "</tr>\n",
       "<tr>\n",
       "  <th>Prob(Omnibus):</th> <td> 0.654</td> <th>  Jarque-Bera (JB):  </th> <td>   0.450</td>\n",
       "</tr>\n",
       "<tr>\n",
       "  <th>Skew:</th>          <td>-0.228</td> <th>  Prob(JB):          </th> <td>   0.799</td>\n",
       "</tr>\n",
       "<tr>\n",
       "  <th>Kurtosis:</th>      <td> 3.091</td> <th>  Cond. No.          </th> <td>    11.7</td>\n",
       "</tr>\n",
       "</table><br/><br/>Warnings:<br/>[1] Standard Errors assume that the covariance matrix of the errors is correctly specified."
      ],
      "text/plain": [
       "<class 'statsmodels.iolib.summary.Summary'>\n",
       "\"\"\"\n",
       "                            OLS Regression Results                            \n",
       "==============================================================================\n",
       "Dep. Variable:                      y   R-squared:                       0.907\n",
       "Model:                            OLS   Adj. R-squared:                  0.905\n",
       "Method:                 Least Squares   F-statistic:                     469.5\n",
       "Date:                Sat, 15 Feb 2020   Prob (F-statistic):           1.97e-26\n",
       "Time:                        19:33:36   Log-Likelihood:                -64.907\n",
       "No. Observations:                  50   AIC:                             133.8\n",
       "Df Residuals:                      48   BIC:                             137.6\n",
       "Df Model:                           1                                         \n",
       "Covariance Type:            nonrobust                                         \n",
       "==============================================================================\n",
       "                 coef    std err          t      P>|t|      [0.025      0.975]\n",
       "------------------------------------------------------------------------------\n",
       "Intercept      1.3056      0.252      5.180      0.000       0.799       1.812\n",
       "x              0.9411      0.043     21.668      0.000       0.854       1.028\n",
       "==============================================================================\n",
       "Omnibus:                        0.850   Durbin-Watson:                   2.312\n",
       "Prob(Omnibus):                  0.654   Jarque-Bera (JB):                0.450\n",
       "Skew:                          -0.228   Prob(JB):                        0.799\n",
       "Kurtosis:                       3.091   Cond. No.                         11.7\n",
       "==============================================================================\n",
       "\n",
       "Warnings:\n",
       "[1] Standard Errors assume that the covariance matrix of the errors is correctly specified.\n",
       "\"\"\""
      ]
     },
     "execution_count": 133,
     "metadata": {},
     "output_type": "execute_result"
    }
   ],
   "source": [
    "ols_model.summary()"
   ]
  },
  {
   "cell_type": "markdown",
   "metadata": {},
   "source": [
    "Let's examine some of these values.   \n",
    "\n",
    "- Let's start with the **model coefficients**. The report includes an hypothesis test on the statistical significance of the model coefficients. In this case we can interpret this significance as follows: For both the **intercept** and **slope** the t-statistic is large, p-value is small, and the confidence interval does not include zero. These coefficients are statistically significant.\n",
    "- The **F-statistic** and **Prob (F-statistic)** are a measure of the significance of the model against a **null model that does not explain the data**. In this case the large F-statistic and small probability indicate that we can reject this null hypothesis and say the model is significant in terms of explaining the data.  \n",
    "- The $R^2$ value is shown in the upper right corner. The value of 0.91 indicates a relatively good model fit.   \n",
    "- The **adjusted $R^2$** shown in the summary indicates that the model is a good fit. To find this quantity, notice the following: \n",
    "  - The **number of observations** and is the $df_{SST}$. \n",
    "  - The **degrees of freedom residuals** is the $df_{SSR}$. \n",
    "  - Notice that $df_{SST} - df_{SSR} =$ number of model coefficients. \n",
    "  \n",
    "> **Warning:** The hypothesis tests on model coefficients suffer from the same problems of any hypothesis test. These problems are especially prevalent when the are large numbers of model parameters. For example, finding coefficients significant that are not, or vice versa is not uncommon. This situation can be aggravated when features have significant colinearity (correlation). "
   ]
  },
  {
   "cell_type": "markdown",
   "metadata": {},
   "source": [
    "### Analysis of Residuals\n",
    "\n",
    "There is one more important topic in evaluating regression models, the analysis of the **residuals**. The residuals of a regression model are the difference between the predicted values and actual values of the label. In other words, the residuals are the error term we write as $\\epsilon_i$ for the ith observation.\n",
    "\n",
    "A good linear regression model should have residuals with the following properties: \n",
    "\n",
    "1. The residuals should be approximately **Normally distributed with zero mean**. This criteria applied to any regression model using a least squares loss function. The least squares fitting criteria is only optimal for Normally distributed and zero mean residuals. We can express this important relationship mathematically as:  \n",
    "\n",
    "\\begin{align}\n",
    "y_i &  mx_i + b + \\epsilon_i \\\\\n",
    "where, \\\\\n",
    "\\epsilon_i &= N(0, \\sigma)\n",
    "\\end{align}\n",
    "\n",
    "2. The residuals should be **homoscedastic** with respect to the predicted values, $\\hat{Y}$. Homoscedastic residuals have constant variance, $\\sigma$ with respect to the predicted values. This criteria applies to any form of regression model. If this is not the case, we say that the residuals are **heteroscedastic**, with variance changing with respect to the predicted values. In other words, the variance is a function of the predicted values, $\\sigma(x_i) = f(x_i)$. A model with heteroscedastic residuals will have a better fit for small predicted values than large predicted values, or vice versa. We can write a model for hetroscedastic residuals as: \n",
    "\n",
    "\\begin{align}\n",
    "\\epsilon_i &= N(0, f(x_i))\\\\\n",
    "for\\ example\\\\\n",
    "\\epsilon_i &= N(0, e^{x_i})\n",
    "\\end{align}\n",
    "\n",
    "\n",
    "To start our analysis of residuals, execute the code in the cell below to compute residuals for the model. "
   ]
  },
  {
   "cell_type": "code",
   "execution_count": 134,
   "metadata": {},
   "outputs": [
    {
     "data": {
      "text/html": [
       "<div>\n",
       "<style scoped>\n",
       "    .dataframe tbody tr th:only-of-type {\n",
       "        vertical-align: middle;\n",
       "    }\n",
       "\n",
       "    .dataframe tbody tr th {\n",
       "        vertical-align: top;\n",
       "    }\n",
       "\n",
       "    .dataframe thead th {\n",
       "        text-align: right;\n",
       "    }\n",
       "</style>\n",
       "<table border=\"1\" class=\"dataframe\">\n",
       "  <thead>\n",
       "    <tr style=\"text-align: right;\">\n",
       "      <th></th>\n",
       "      <th>x</th>\n",
       "      <th>y</th>\n",
       "      <th>predicted</th>\n",
       "      <th>resids</th>\n",
       "    </tr>\n",
       "  </thead>\n",
       "  <tbody>\n",
       "    <tr>\n",
       "      <th>0</th>\n",
       "      <td>0.000000</td>\n",
       "      <td>1.475868</td>\n",
       "      <td>1.305594</td>\n",
       "      <td>-0.170274</td>\n",
       "    </tr>\n",
       "    <tr>\n",
       "      <th>1</th>\n",
       "      <td>0.204082</td>\n",
       "      <td>0.915564</td>\n",
       "      <td>1.497657</td>\n",
       "      <td>0.582093</td>\n",
       "    </tr>\n",
       "    <tr>\n",
       "      <th>2</th>\n",
       "      <td>0.408163</td>\n",
       "      <td>2.216802</td>\n",
       "      <td>1.689720</td>\n",
       "      <td>-0.527082</td>\n",
       "    </tr>\n",
       "    <tr>\n",
       "      <th>3</th>\n",
       "      <td>0.612245</td>\n",
       "      <td>1.362557</td>\n",
       "      <td>1.881783</td>\n",
       "      <td>0.519226</td>\n",
       "    </tr>\n",
       "    <tr>\n",
       "      <th>4</th>\n",
       "      <td>0.816327</td>\n",
       "      <td>3.521151</td>\n",
       "      <td>2.073846</td>\n",
       "      <td>-1.447306</td>\n",
       "    </tr>\n",
       "    <tr>\n",
       "      <th>5</th>\n",
       "      <td>1.020408</td>\n",
       "      <td>0.818881</td>\n",
       "      <td>2.265908</td>\n",
       "      <td>1.447027</td>\n",
       "    </tr>\n",
       "    <tr>\n",
       "      <th>6</th>\n",
       "      <td>1.224490</td>\n",
       "      <td>3.096915</td>\n",
       "      <td>2.457971</td>\n",
       "      <td>-0.638943</td>\n",
       "    </tr>\n",
       "    <tr>\n",
       "      <th>7</th>\n",
       "      <td>1.428571</td>\n",
       "      <td>2.631663</td>\n",
       "      <td>2.650034</td>\n",
       "      <td>0.018371</td>\n",
       "    </tr>\n",
       "    <tr>\n",
       "      <th>8</th>\n",
       "      <td>1.632653</td>\n",
       "      <td>2.074532</td>\n",
       "      <td>2.842097</td>\n",
       "      <td>0.767565</td>\n",
       "    </tr>\n",
       "    <tr>\n",
       "      <th>9</th>\n",
       "      <td>1.836735</td>\n",
       "      <td>2.897740</td>\n",
       "      <td>3.034160</td>\n",
       "      <td>0.136420</td>\n",
       "    </tr>\n",
       "  </tbody>\n",
       "</table>\n",
       "</div>"
      ],
      "text/plain": [
       "          x         y  predicted    resids\n",
       "0  0.000000  1.475868   1.305594 -0.170274\n",
       "1  0.204082  0.915564   1.497657  0.582093\n",
       "2  0.408163  2.216802   1.689720 -0.527082\n",
       "3  0.612245  1.362557   1.881783  0.519226\n",
       "4  0.816327  3.521151   2.073846 -1.447306\n",
       "5  1.020408  0.818881   2.265908  1.447027\n",
       "6  1.224490  3.096915   2.457971 -0.638943\n",
       "7  1.428571  2.631663   2.650034  0.018371\n",
       "8  1.632653  2.074532   2.842097  0.767565\n",
       "9  1.836735  2.897740   3.034160  0.136420"
      ]
     },
     "execution_count": 134,
     "metadata": {},
     "output_type": "execute_result"
    }
   ],
   "source": [
    "# Add residuals to pandas dataframe\n",
    "sim_data['resids'] = np.subtract(sim_data.predicted, sim_data.y)\n",
    "\n",
    "# View head of data frame\n",
    "sim_data.head(10)"
   ]
  },
  {
   "cell_type": "markdown",
   "metadata": {},
   "source": [
    "We can measure the dispersion of the residuals as a measure of regression performance. The metric is root mean square error or RMSE, which is very close to the standard deviation:\n",
    "\n",
    "$$RMSE = \\sqrt{ \\frac{\\Sigma^n_{i-1} (y_i - \\hat{y_i})^2}{n}} = \\frac{\\sqrt{SSR}}{n}$$\n",
    "\n",
    "We should also determine if the mean of the residuals is approximately 0. \n",
    "\n",
    "Execute the code in the cell below to compute and display the mean and RMSE for the model. "
   ]
  },
  {
   "cell_type": "code",
   "execution_count": 135,
   "metadata": {},
   "outputs": [
    {
     "name": "stdout",
     "output_type": "stream",
     "text": [
      "The mean of the residuals = 0.000\n",
      "RMSE = 0.886\n"
     ]
    }
   ],
   "source": [
    "print('The mean of the residuals = %4.3f' % (np.mean(sim_data.resids)))\n",
    "## Print RMSE\n",
    "RMSE = np.std(sim_data.resids)\n",
    "print('RMSE = %4.3f' % (RMSE))"
   ]
  },
  {
   "cell_type": "markdown",
   "metadata": {},
   "source": [
    "This is a reasonable value for RMSE considering the scale of the lable, $\\{0,11\\}$. Further, the mean of the residuals is effectively 0. \n",
    "\n",
    "Next, we need to determine if the distribution of the residuals is approximately Normal. Execute the code in the cell below to plot a histogram and Q-Q Normal plot of the residuals.  "
   ]
  },
  {
   "cell_type": "code",
   "execution_count": 136,
   "metadata": {},
   "outputs": [
    {
     "data": {
      "image/png": "[encoded data removed]",
      "text/plain": [
       "<Figure size 720x288 with 2 Axes>"
      ]
     },
     "metadata": {
      "needs_background": "light"
     },
     "output_type": "display_data"
    }
   ],
   "source": [
    "def plot_resid_dist(resids):\n",
    "    fig, ax = plt.subplots(nrows=1, ncols=2, figsize=(10, 4))\n",
    "    ## Plot a histogram\n",
    "    sns.distplot(resids, bins=20, ax=ax[0])\n",
    "    ax[0].set_title('Histogram of residuals')\n",
    "    ax[0].set_xlabel('Residual values')\n",
    "    ## Plot the Q-Q Normal plot\n",
    "    ss.probplot(resids, plot = ax[1])\n",
    "    ax[1].set_title('Q-Q Normal plot of residuals')\n",
    "    plt.show()\n",
    "\n",
    "plot_resid_dist(sim_data.resids)"
   ]
  },
  {
   "cell_type": "code",
   "execution_count": 137,
   "metadata": {},
   "outputs": [
    {
     "data": {
      "image/png": "[encoded data removed]",
      "text/plain": [
       "<Figure size 432x288 with 1 Axes>"
      ]
     },
     "metadata": {
      "needs_background": "light"
     },
     "output_type": "display_data"
    }
   ],
   "source": [
    "def residual_plot(df):\n",
    "    RMSE = np.std(df.resids)\n",
    "    sns.scatterplot(x='predicted', y='resids', data=df)\n",
    "    plt.axhline(0.0, color='red', linewidth=1.0)\n",
    "    plt.axhline(2.0*RMSE, color='red', linestyle='dashed', linewidth=1.0)\n",
    "    plt.axhline(-2.0*RMSE, color='red', linestyle='dashed', linewidth=1.0)\n",
    "    plt.title('PLot of residuals vs. predicted')\n",
    "    plt.xlabel('Predicted values')\n",
    "    plt.ylabel('Residuals')\n",
    "    plt.show()\n",
    "    \n",
    "residual_plot(sim_data)    "
   ]
  },
  {
   "cell_type": "markdown",
   "metadata": {},
   "source": [
    "**Your Turn:** Create a regression model from synthetic data with intercept of 0 and maximum value at ${x = 10, y = 10}$, and with the error having a standard deviation of 5. \n",
    "\n",
    "As a first step, execute the code in the cell below to generated the simulated data.  "
   ]
  },
  {
   "cell_type": "code",
   "execution_count": 138,
   "metadata": {
    "scrolled": true
   },
   "outputs": [
    {
     "data": {
      "text/html": [
       "<div>\n",
       "<style scoped>\n",
       "    .dataframe tbody tr th:only-of-type {\n",
       "        vertical-align: middle;\n",
       "    }\n",
       "\n",
       "    .dataframe tbody tr th {\n",
       "        vertical-align: top;\n",
       "    }\n",
       "\n",
       "    .dataframe thead th {\n",
       "        text-align: right;\n",
       "    }\n",
       "</style>\n",
       "<table border=\"1\" class=\"dataframe\">\n",
       "  <thead>\n",
       "    <tr style=\"text-align: right;\">\n",
       "      <th></th>\n",
       "      <th>x</th>\n",
       "      <th>y</th>\n",
       "    </tr>\n",
       "  </thead>\n",
       "  <tbody>\n",
       "    <tr>\n",
       "      <th>0</th>\n",
       "      <td>0.000000</td>\n",
       "      <td>-0.943875</td>\n",
       "    </tr>\n",
       "    <tr>\n",
       "      <th>1</th>\n",
       "      <td>0.204082</td>\n",
       "      <td>8.722908</td>\n",
       "    </tr>\n",
       "    <tr>\n",
       "      <th>2</th>\n",
       "      <td>0.408163</td>\n",
       "      <td>-3.264018</td>\n",
       "    </tr>\n",
       "    <tr>\n",
       "      <th>3</th>\n",
       "      <td>0.612245</td>\n",
       "      <td>-3.107354</td>\n",
       "    </tr>\n",
       "    <tr>\n",
       "      <th>4</th>\n",
       "      <td>0.816327</td>\n",
       "      <td>3.546238</td>\n",
       "    </tr>\n",
       "  </tbody>\n",
       "</table>\n",
       "</div>"
      ],
      "text/plain": [
       "          x         y\n",
       "0  0.000000 -0.943875\n",
       "1  0.204082  8.722908\n",
       "2  0.408163 -3.264018\n",
       "3  0.612245 -3.107354\n",
       "4  0.816327  3.546238"
      ]
     },
     "execution_count": 138,
     "metadata": {},
     "output_type": "execute_result"
    }
   ],
   "source": [
    "# Paramters of generated data\n",
    "n_points = 50\n",
    "x_start, x_end = 0, 10\n",
    "y_start, y_end = 0, 10\n",
    "y_sd = 5\n",
    "\n",
    "# Generate data columns\n",
    "nr.seed(545454)\n",
    "x_data = np.linspace(x_start, x_end, n_points)\n",
    "y_error = np.random.normal(loc=0, scale=y_sd, size=n_points)\n",
    "y_data = np.linspace(y_start, y_end, n_points) + y_error + 1.0 \n",
    "\n",
    "# Put data in dataframe\n",
    "reg_data_5 = pd.DataFrame({'x':x_data, 'y':y_data})\n",
    "\n",
    "reg_data_5.head()"
   ]
  },
  {
   "cell_type": "markdown",
   "metadata": {},
   "source": [
    "Next, in the cell below create and execute the code to define and fit the OLS model and print the summary."
   ]
  },
  {
   "cell_type": "code",
   "execution_count": 139,
   "metadata": {},
   "outputs": [
    {
     "data": {
      "text/html": [
       "<table class=\"simpletable\">\n",
       "<caption>OLS Regression Results</caption>\n",
       "<tr>\n",
       "  <th>Dep. Variable:</th>            <td>y</td>        <th>  R-squared:         </th> <td>   0.361</td>\n",
       "</tr>\n",
       "<tr>\n",
       "  <th>Model:</th>                   <td>OLS</td>       <th>  Adj. R-squared:    </th> <td>   0.348</td>\n",
       "</tr>\n",
       "<tr>\n",
       "  <th>Method:</th>             <td>Least Squares</td>  <th>  F-statistic:       </th> <td>   27.16</td>\n",
       "</tr>\n",
       "<tr>\n",
       "  <th>Date:</th>             <td>Sat, 15 Feb 2020</td> <th>  Prob (F-statistic):</th> <td>3.91e-06</td>\n",
       "</tr>\n",
       "<tr>\n",
       "  <th>Time:</th>                 <td>19:33:36</td>     <th>  Log-Likelihood:    </th> <td> -144.99</td>\n",
       "</tr>\n",
       "<tr>\n",
       "  <th>No. Observations:</th>      <td>    50</td>      <th>  AIC:               </th> <td>   294.0</td>\n",
       "</tr>\n",
       "<tr>\n",
       "  <th>Df Residuals:</th>          <td>    48</td>      <th>  BIC:               </th> <td>   297.8</td>\n",
       "</tr>\n",
       "<tr>\n",
       "  <th>Df Model:</th>              <td>     1</td>      <th>                     </th>     <td> </td>   \n",
       "</tr>\n",
       "<tr>\n",
       "  <th>Covariance Type:</th>      <td>nonrobust</td>    <th>                     </th>     <td> </td>   \n",
       "</tr>\n",
       "</table>\n",
       "<table class=\"simpletable\">\n",
       "<tr>\n",
       "      <td></td>         <th>coef</th>     <th>std err</th>      <th>t</th>      <th>P>|t|</th>  <th>[0.025</th>    <th>0.975]</th>  \n",
       "</tr>\n",
       "<tr>\n",
       "  <th>Intercept</th> <td>    0.3030</td> <td>    1.250</td> <td>    0.242</td> <td> 0.810</td> <td>   -2.211</td> <td>    2.817</td>\n",
       "</tr>\n",
       "<tr>\n",
       "  <th>x</th>         <td>    1.1229</td> <td>    0.215</td> <td>    5.211</td> <td> 0.000</td> <td>    0.690</td> <td>    1.556</td>\n",
       "</tr>\n",
       "</table>\n",
       "<table class=\"simpletable\">\n",
       "<tr>\n",
       "  <th>Omnibus:</th>       <td> 0.619</td> <th>  Durbin-Watson:     </th> <td>   1.867</td>\n",
       "</tr>\n",
       "<tr>\n",
       "  <th>Prob(Omnibus):</th> <td> 0.734</td> <th>  Jarque-Bera (JB):  </th> <td>   0.577</td>\n",
       "</tr>\n",
       "<tr>\n",
       "  <th>Skew:</th>          <td>-0.246</td> <th>  Prob(JB):          </th> <td>   0.749</td>\n",
       "</tr>\n",
       "<tr>\n",
       "  <th>Kurtosis:</th>      <td> 2.810</td> <th>  Cond. No.          </th> <td>    11.7</td>\n",
       "</tr>\n",
       "</table><br/><br/>Warnings:<br/>[1] Standard Errors assume that the covariance matrix of the errors is correctly specified."
      ],
      "text/plain": [
       "<class 'statsmodels.iolib.summary.Summary'>\n",
       "\"\"\"\n",
       "                            OLS Regression Results                            \n",
       "==============================================================================\n",
       "Dep. Variable:                      y   R-squared:                       0.361\n",
       "Model:                            OLS   Adj. R-squared:                  0.348\n",
       "Method:                 Least Squares   F-statistic:                     27.16\n",
       "Date:                Sat, 15 Feb 2020   Prob (F-statistic):           3.91e-06\n",
       "Time:                        19:33:36   Log-Likelihood:                -144.99\n",
       "No. Observations:                  50   AIC:                             294.0\n",
       "Df Residuals:                      48   BIC:                             297.8\n",
       "Df Model:                           1                                         \n",
       "Covariance Type:            nonrobust                                         \n",
       "==============================================================================\n",
       "                 coef    std err          t      P>|t|      [0.025      0.975]\n",
       "------------------------------------------------------------------------------\n",
       "Intercept      0.3030      1.250      0.242      0.810      -2.211       2.817\n",
       "x              1.1229      0.215      5.211      0.000       0.690       1.556\n",
       "==============================================================================\n",
       "Omnibus:                        0.619   Durbin-Watson:                   1.867\n",
       "Prob(Omnibus):                  0.734   Jarque-Bera (JB):                0.577\n",
       "Skew:                          -0.246   Prob(JB):                        0.749\n",
       "Kurtosis:                       2.810   Cond. No.                         11.7\n",
       "==============================================================================\n",
       "\n",
       "Warnings:\n",
       "[1] Standard Errors assume that the covariance matrix of the errors is correctly specified.\n",
       "\"\"\""
      ]
     },
     "execution_count": 139,
     "metadata": {},
     "output_type": "execute_result"
    }
   ],
   "source": [
    "# Fit the model and get the linear model summaries/plots.\n",
    "ols5_model = sm.ols(formula='y ~ x', data = reg_data_5).fit()\n",
    "\n",
    "ols5_model.summary()"
   ]
  },
  {
   "cell_type": "markdown",
   "metadata": {},
   "source": [
    "Examine the model summary and consider the answers to these questions:\n",
    "1. Are both model coefficients still significant?    \n",
    "2. Is the model still significant based on the F-statistic? \n",
    "3. How have $R^2$ and adjusted $R^2$ changed and what does this mean in terms of the fit of the model? "
   ]
  },
  {
   "cell_type": "markdown",
   "metadata": {},
   "source": [
    "Now create and execute code to do the following:   \n",
    "1. Compute and print the mean of the residuals.\n",
    "2. Compute and print the RMSE.\n",
    "3. Plot the histogram and Q-Q Normal plot of the residuals.\n",
    "4. Plot the residuals vs. the predicted values."
   ]
  },
  {
   "cell_type": "code",
   "execution_count": 140,
   "metadata": {},
   "outputs": [
    {
     "name": "stdout",
     "output_type": "stream",
     "text": [
      "The mean of the residuals = 0.094\n",
      "RMSE = 4.429\n"
     ]
    },
    {
     "data": {
      "image/png": "[encoded data removed]",
      "text/plain": [
       "<Figure size 720x288 with 2 Axes>"
      ]
     },
     "metadata": {
      "needs_background": "light"
     },
     "output_type": "display_data"
    },
    {
     "data": {
      "image/png": "[encoded data removed]",
      "text/plain": [
       "<Figure size 432x288 with 1 Axes>"
      ]
     },
     "metadata": {
      "needs_background": "light"
     },
     "output_type": "display_data"
    }
   ],
   "source": [
    "reg_data_5['predicted'] = ols_model.predict(reg_data_5.x)\n",
    "reg_data_5['resids'] = np.subtract(reg_data_5.predicted, reg_data_5.y)\n",
    "\n",
    "print('The mean of the residuals = %4.3f' % (np.mean(reg_data_5.resids)))\n",
    "## Print RMSE\n",
    "RMSE = np.std(reg_data_5.resids)\n",
    "print('RMSE = %4.3f' % (RMSE))\n",
    "\n",
    "plot_resid_dist(reg_data_5.resids)\n",
    "residual_plot(reg_data_5)  "
   ]
  },
  {
   "cell_type": "markdown",
   "metadata": {},
   "source": [
    "Examine these results and consider the answers to the following questions:\n",
    "1. How has the RMSE changed?\n",
    "2. Do the residuals appear to be approximately Normally distributed with zero mean?\n",
    "3. Are the residuals homoscedastic?"
   ]
  },
  {
   "cell_type": "markdown",
   "metadata": {
    "collapsed": true
   },
   "source": [
    "## Linear regressions are not just for straight lines\n",
    "\n",
    "A linear model is linear in its coefficients. But, that does not mean we are limited to straight lines, **a common misconception**.  A partial list of functions which can be included in a linear model includes:\n",
    "\n",
    "- Polynomials, but beware of polynomials of degree 3 or above.\n",
    "- Splines and smoothing kernels.\n",
    "- trigonometric functions.\n",
    "- Logarithmic and exponential functions.\n",
    "- Interaction terms, which are the product of feature values. For example, the two-way interaction of var1 and var2. In the R modeling language, interactions are specified as $var1:var2$. You can express the using both varibles plus the interaction as, $var1*var2 = var1 + var2 + var1:var2$.  \n",
    "\n",
    "### An Example\n",
    "\n",
    "To clarify these concepts, let's look at an example. The code in the cell below computes a data set with a polynomial trend."
   ]
  },
  {
   "cell_type": "code",
   "execution_count": 141,
   "metadata": {},
   "outputs": [
    {
     "data": {
      "text/html": [
       "<div>\n",
       "<style scoped>\n",
       "    .dataframe tbody tr th:only-of-type {\n",
       "        vertical-align: middle;\n",
       "    }\n",
       "\n",
       "    .dataframe tbody tr th {\n",
       "        vertical-align: top;\n",
       "    }\n",
       "\n",
       "    .dataframe thead th {\n",
       "        text-align: right;\n",
       "    }\n",
       "</style>\n",
       "<table border=\"1\" class=\"dataframe\">\n",
       "  <thead>\n",
       "    <tr style=\"text-align: right;\">\n",
       "      <th></th>\n",
       "      <th>x</th>\n",
       "      <th>y</th>\n",
       "    </tr>\n",
       "  </thead>\n",
       "  <tbody>\n",
       "    <tr>\n",
       "      <th>0</th>\n",
       "      <td>0.000000</td>\n",
       "      <td>2.081760</td>\n",
       "    </tr>\n",
       "    <tr>\n",
       "      <th>1</th>\n",
       "      <td>0.204082</td>\n",
       "      <td>1.619740</td>\n",
       "    </tr>\n",
       "    <tr>\n",
       "      <th>2</th>\n",
       "      <td>0.408163</td>\n",
       "      <td>0.792484</td>\n",
       "    </tr>\n",
       "    <tr>\n",
       "      <th>3</th>\n",
       "      <td>0.612245</td>\n",
       "      <td>3.006270</td>\n",
       "    </tr>\n",
       "    <tr>\n",
       "      <th>4</th>\n",
       "      <td>0.816327</td>\n",
       "      <td>3.489881</td>\n",
       "    </tr>\n",
       "  </tbody>\n",
       "</table>\n",
       "</div>"
      ],
      "text/plain": [
       "          x         y\n",
       "0  0.000000  2.081760\n",
       "1  0.204082  1.619740\n",
       "2  0.408163  0.792484\n",
       "3  0.612245  3.006270\n",
       "4  0.816327  3.489881"
      ]
     },
     "execution_count": 141,
     "metadata": {},
     "output_type": "execute_result"
    }
   ],
   "source": [
    "# Paramters of generated data\n",
    "n_points = 50\n",
    "x_start, x_end = 0, 10\n",
    "y_start, y_end = 0, 10\n",
    "y_sd = 1\n",
    "\n",
    "# Generate data columns\n",
    "nr.seed(474747)\n",
    "x_data = np.linspace(x_start, x_end, n_points) # The x values\n",
    "y_error = np.random.normal(loc=0, scale=y_sd, size=n_points) # The Normally distributed noise\n",
    "y_data = x_data + 0.6 * np.square(x_data) + y_error + 1.0 # The y values including an intercept\n",
    "\n",
    "# Put data in dataframe\n",
    "sim_data_poly = pd.DataFrame({'x':x_data, 'y':y_data})\n",
    "\n",
    "sim_data_poly.head()"
   ]
  },
  {
   "cell_type": "code",
   "execution_count": 142,
   "metadata": {},
   "outputs": [
    {
     "name": "stdout",
     "output_type": "stream",
     "text": [
      "Intercept = -8.764  Slope = 6.989\n"
     ]
    }
   ],
   "source": [
    "## Define the regresson model and fit it to the data\n",
    "ols_model = sm.ols(formula = 'y ~ x', data=sim_data_poly).fit()\n",
    "\n",
    "# Add predicted to pandas dataframe\n",
    "sim_data_poly['predicted'] = ols_model.predict(sim_data_poly.x)\n",
    "\n",
    "## Print the model coefficient\n",
    "print('Intercept = %4.3f  Slope = %4.3f' % (ols_model._results.params[0], ols_model._results.params[1]))"
   ]
  },
  {
   "cell_type": "code",
   "execution_count": 143,
   "metadata": {},
   "outputs": [
    {
     "data": {
      "text/plain": [
       "<matplotlib.axes._subplots.AxesSubplot at 0x1f8eb56c4e0>"
      ]
     },
     "execution_count": 143,
     "metadata": {},
     "output_type": "execute_result"
    },
    {
     "data": {
      "image/png": "[encoded data removed]",
      "text/plain": [
       "<Figure size 432x288 with 1 Axes>"
      ]
     },
     "metadata": {
      "needs_background": "light"
     },
     "output_type": "display_data"
    }
   ],
   "source": [
    "ax = sns.lineplot(x='x', y='predicted', data=sim_data_poly, color='red')\n",
    "sns.scatterplot(x='x', y='y', data=sim_data_poly, ax=ax)"
   ]
  },
  {
   "cell_type": "code",
   "execution_count": 144,
   "metadata": {},
   "outputs": [
    {
     "name": "stdout",
     "output_type": "stream",
     "text": [
      "The mean of the residuals = 0.000\n",
      "RMSE = 4.706\n"
     ]
    },
    {
     "data": {
      "image/png": "[encoded data removed]",
      "text/plain": [
       "<Figure size 720x288 with 2 Axes>"
      ]
     },
     "metadata": {
      "needs_background": "light"
     },
     "output_type": "display_data"
    },
    {
     "data": {
      "image/png": "[encoded data removed]",
      "text/plain": [
       "<Figure size 432x288 with 1 Axes>"
      ]
     },
     "metadata": {
      "needs_background": "light"
     },
     "output_type": "display_data"
    }
   ],
   "source": [
    "sim_data_poly['resids'] = np.subtract(sim_data_poly.predicted, sim_data_poly.y)\n",
    "\n",
    "print('The mean of the residuals = %4.3f' % (np.mean(sim_data_poly.resids)))\n",
    "## Print RMSE\n",
    "RMSE = np.std(sim_data_poly.resids)\n",
    "print('RMSE = %4.3f' % (RMSE))\n",
    "\n",
    "plot_resid_dist(sim_data_poly.resids)\n",
    "residual_plot(sim_data_poly)  "
   ]
  },
  {
   "cell_type": "markdown",
   "metadata": {},
   "source": [
    "### Using Polynomial Features\n",
    "\n",
    "Given the poor fit of the first model, it is time to try something else. In this case, we will try using polynomial terms. \n",
    "\n",
    "The code in the cell below adds second and third order polynomial features to the data frame. Execute the code.  "
   ]
  },
  {
   "cell_type": "code",
   "execution_count": 145,
   "metadata": {},
   "outputs": [
    {
     "data": {
      "text/html": [
       "<div>\n",
       "<style scoped>\n",
       "    .dataframe tbody tr th:only-of-type {\n",
       "        vertical-align: middle;\n",
       "    }\n",
       "\n",
       "    .dataframe tbody tr th {\n",
       "        vertical-align: top;\n",
       "    }\n",
       "\n",
       "    .dataframe thead th {\n",
       "        text-align: right;\n",
       "    }\n",
       "</style>\n",
       "<table border=\"1\" class=\"dataframe\">\n",
       "  <thead>\n",
       "    <tr style=\"text-align: right;\">\n",
       "      <th></th>\n",
       "      <th>x</th>\n",
       "      <th>y</th>\n",
       "      <th>predicted</th>\n",
       "      <th>resids</th>\n",
       "      <th>x_square</th>\n",
       "      <th>x_cube</th>\n",
       "    </tr>\n",
       "  </thead>\n",
       "  <tbody>\n",
       "    <tr>\n",
       "      <th>0</th>\n",
       "      <td>0.000000</td>\n",
       "      <td>2.081760</td>\n",
       "      <td>-8.764218</td>\n",
       "      <td>-10.845978</td>\n",
       "      <td>0.000000</td>\n",
       "      <td>0.000000</td>\n",
       "    </tr>\n",
       "    <tr>\n",
       "      <th>1</th>\n",
       "      <td>0.204082</td>\n",
       "      <td>1.619740</td>\n",
       "      <td>-7.337869</td>\n",
       "      <td>-8.957609</td>\n",
       "      <td>0.041649</td>\n",
       "      <td>0.008500</td>\n",
       "    </tr>\n",
       "    <tr>\n",
       "      <th>2</th>\n",
       "      <td>0.408163</td>\n",
       "      <td>0.792484</td>\n",
       "      <td>-5.911520</td>\n",
       "      <td>-6.704004</td>\n",
       "      <td>0.166597</td>\n",
       "      <td>0.067999</td>\n",
       "    </tr>\n",
       "    <tr>\n",
       "      <th>3</th>\n",
       "      <td>0.612245</td>\n",
       "      <td>3.006270</td>\n",
       "      <td>-4.485171</td>\n",
       "      <td>-7.491441</td>\n",
       "      <td>0.374844</td>\n",
       "      <td>0.229496</td>\n",
       "    </tr>\n",
       "    <tr>\n",
       "      <th>4</th>\n",
       "      <td>0.816327</td>\n",
       "      <td>3.489881</td>\n",
       "      <td>-3.058822</td>\n",
       "      <td>-6.548702</td>\n",
       "      <td>0.666389</td>\n",
       "      <td>0.543991</td>\n",
       "    </tr>\n",
       "  </tbody>\n",
       "</table>\n",
       "</div>"
      ],
      "text/plain": [
       "          x         y  predicted     resids  x_square    x_cube\n",
       "0  0.000000  2.081760  -8.764218 -10.845978  0.000000  0.000000\n",
       "1  0.204082  1.619740  -7.337869  -8.957609  0.041649  0.008500\n",
       "2  0.408163  0.792484  -5.911520  -6.704004  0.166597  0.067999\n",
       "3  0.612245  3.006270  -4.485171  -7.491441  0.374844  0.229496\n",
       "4  0.816327  3.489881  -3.058822  -6.548702  0.666389  0.543991"
      ]
     },
     "execution_count": 145,
     "metadata": {},
     "output_type": "execute_result"
    }
   ],
   "source": [
    "sim_data_poly['x_square'] = np.square(sim_data_poly.x)\n",
    "sim_data_poly['x_cube'] = np.multiply(sim_data_poly.x, sim_data_poly.x_square)\n",
    "sim_data_poly.head()"
   ]
  },
  {
   "cell_type": "markdown",
   "metadata": {},
   "source": [
    "####  Scaling Data\n",
    "\n",
    "When performing regression with numeric variables you will almost **always scale the data**.  Scaling data is important not just for regression, but most other machine learning models. Some reasons to scale regression data include:\n",
    "\n",
    "- The intercept may be a long way from the actual data. With scaled features, the intercept is at the centroid of the distribution. \n",
    "- Scaling prevents features with a large numerical range from overwhelming featuures with small numerical values. Numerical range is not an indicator of feature importance!\n",
    "\n",
    "There are several possibile approaches to scaling data:\n",
    " - Scale the features or independent variables. This is the most common practice.\n",
    " - Scale the label or dependent variable.\n",
    " - Scale both, which is another common practice\n",
    " \n",
    "In this case, we will just scale the one feature. Execute the code in the cell below and examine the results. "
   ]
  },
  {
   "cell_type": "code",
   "execution_count": 146,
   "metadata": {},
   "outputs": [
    {
     "data": {
      "text/html": [
       "<div>\n",
       "<style scoped>\n",
       "    .dataframe tbody tr th:only-of-type {\n",
       "        vertical-align: middle;\n",
       "    }\n",
       "\n",
       "    .dataframe tbody tr th {\n",
       "        vertical-align: top;\n",
       "    }\n",
       "\n",
       "    .dataframe thead th {\n",
       "        text-align: right;\n",
       "    }\n",
       "</style>\n",
       "<table border=\"1\" class=\"dataframe\">\n",
       "  <thead>\n",
       "    <tr style=\"text-align: right;\">\n",
       "      <th></th>\n",
       "      <th>x</th>\n",
       "      <th>y</th>\n",
       "      <th>predicted</th>\n",
       "      <th>resids</th>\n",
       "      <th>x_square</th>\n",
       "      <th>x_cube</th>\n",
       "    </tr>\n",
       "  </thead>\n",
       "  <tbody>\n",
       "    <tr>\n",
       "      <th>0</th>\n",
       "      <td>-1.697749</td>\n",
       "      <td>2.081760</td>\n",
       "      <td>-8.764218</td>\n",
       "      <td>-10.845978</td>\n",
       "      <td>-1.105709</td>\n",
       "      <td>-0.874340</td>\n",
       "    </tr>\n",
       "    <tr>\n",
       "      <th>1</th>\n",
       "      <td>-1.628453</td>\n",
       "      <td>1.619740</td>\n",
       "      <td>-7.337869</td>\n",
       "      <td>-8.957609</td>\n",
       "      <td>-1.104341</td>\n",
       "      <td>-0.874311</td>\n",
       "    </tr>\n",
       "    <tr>\n",
       "      <th>2</th>\n",
       "      <td>-1.559158</td>\n",
       "      <td>0.792484</td>\n",
       "      <td>-5.911520</td>\n",
       "      <td>-6.704004</td>\n",
       "      <td>-1.100238</td>\n",
       "      <td>-0.874107</td>\n",
       "    </tr>\n",
       "    <tr>\n",
       "      <th>3</th>\n",
       "      <td>-1.489862</td>\n",
       "      <td>3.006270</td>\n",
       "      <td>-4.485171</td>\n",
       "      <td>-7.491441</td>\n",
       "      <td>-1.093400</td>\n",
       "      <td>-0.873553</td>\n",
       "    </tr>\n",
       "    <tr>\n",
       "      <th>4</th>\n",
       "      <td>-1.420566</td>\n",
       "      <td>3.489881</td>\n",
       "      <td>-3.058822</td>\n",
       "      <td>-6.548702</td>\n",
       "      <td>-1.083827</td>\n",
       "      <td>-0.872475</td>\n",
       "    </tr>\n",
       "    <tr>\n",
       "      <th>5</th>\n",
       "      <td>-1.351270</td>\n",
       "      <td>2.662956</td>\n",
       "      <td>-1.632473</td>\n",
       "      <td>-4.295428</td>\n",
       "      <td>-1.071519</td>\n",
       "      <td>-0.870698</td>\n",
       "    </tr>\n",
       "    <tr>\n",
       "      <th>6</th>\n",
       "      <td>-1.281974</td>\n",
       "      <td>1.853803</td>\n",
       "      <td>-0.206124</td>\n",
       "      <td>-2.059926</td>\n",
       "      <td>-1.056475</td>\n",
       "      <td>-0.868047</td>\n",
       "    </tr>\n",
       "    <tr>\n",
       "      <th>7</th>\n",
       "      <td>-1.212678</td>\n",
       "      <td>2.877495</td>\n",
       "      <td>1.220225</td>\n",
       "      <td>-1.657269</td>\n",
       "      <td>-1.038696</td>\n",
       "      <td>-0.864347</td>\n",
       "    </tr>\n",
       "    <tr>\n",
       "      <th>8</th>\n",
       "      <td>-1.143382</td>\n",
       "      <td>2.216242</td>\n",
       "      <td>2.646574</td>\n",
       "      <td>0.430333</td>\n",
       "      <td>-1.018182</td>\n",
       "      <td>-0.859424</td>\n",
       "    </tr>\n",
       "    <tr>\n",
       "      <th>9</th>\n",
       "      <td>-1.074086</td>\n",
       "      <td>4.531405</td>\n",
       "      <td>4.072924</td>\n",
       "      <td>-0.458481</td>\n",
       "      <td>-0.994933</td>\n",
       "      <td>-0.853102</td>\n",
       "    </tr>\n",
       "  </tbody>\n",
       "</table>\n",
       "</div>"
      ],
      "text/plain": [
       "          x         y  predicted     resids  x_square    x_cube\n",
       "0 -1.697749  2.081760  -8.764218 -10.845978 -1.105709 -0.874340\n",
       "1 -1.628453  1.619740  -7.337869  -8.957609 -1.104341 -0.874311\n",
       "2 -1.559158  0.792484  -5.911520  -6.704004 -1.100238 -0.874107\n",
       "3 -1.489862  3.006270  -4.485171  -7.491441 -1.093400 -0.873553\n",
       "4 -1.420566  3.489881  -3.058822  -6.548702 -1.083827 -0.872475\n",
       "5 -1.351270  2.662956  -1.632473  -4.295428 -1.071519 -0.870698\n",
       "6 -1.281974  1.853803  -0.206124  -2.059926 -1.056475 -0.868047\n",
       "7 -1.212678  2.877495   1.220225  -1.657269 -1.038696 -0.864347\n",
       "8 -1.143382  2.216242   2.646574   0.430333 -1.018182 -0.859424\n",
       "9 -1.074086  4.531405   4.072924  -0.458481 -0.994933 -0.853102"
      ]
     },
     "execution_count": 146,
     "metadata": {},
     "output_type": "execute_result"
    }
   ],
   "source": [
    "# Create a scale function for a column in a pandas df\n",
    "def scale(col):\n",
    "    mean_col = np.mean(col)\n",
    "    sd_col = np.std(col)\n",
    "    std = (col - mean_col) / sd_col\n",
    "    return std\n",
    "\n",
    "for col in ['x','x_square','x_cube']:\n",
    "    sim_data_poly[col] = scale(sim_data_poly[col])\n",
    "    \n",
    "sim_data_poly.head(10)"
   ]
  },
  {
   "cell_type": "markdown",
   "metadata": {},
   "source": [
    "Notice that the new `x_scale` feature has some additional attributes. These attributes are used to scale new data on which you are making predicitons. This model **will not work on unscaled** data. \n",
    "\n",
    "Run the code in the cell below to create and evaluate a regression model using the scaled data. "
   ]
  },
  {
   "cell_type": "markdown",
   "metadata": {},
   "source": [
    "\n",
    "**Your Turn:**\n",
    "\n",
    "In the cell below use the data you created earlier to compute and evaluate a regression model using a scaled feature. Which performance metrics are the same and which are different."
   ]
  },
  {
   "cell_type": "code",
   "execution_count": 147,
   "metadata": {},
   "outputs": [
    {
     "name": "stdout",
     "output_type": "stream",
     "text": [
      "Intercept = 26.181  Slope = 1.578  Slope2 = 22.070  Slope = -2.555\n"
     ]
    }
   ],
   "source": [
    "## Define the regresson model and fit it to the data\n",
    "ols_model_poly = sm.ols(formula = 'y ~ x + x_square + x_cube', data=sim_data_poly).fit()\n",
    "\n",
    "# Add predicted to pandas dataframe\n",
    "sim_data_poly['predicted'] = ols_model_poly.predict(sim_data_poly[['x','x_square','x_cube']])\n",
    "\n",
    "## Print the model coefficient\n",
    "params = ols_model_poly._results.params\n",
    "#print(params)\n",
    "print('Intercept = %4.3f  Slope = %4.3f  Slope2 = %4.3f  Slope = %4.3f' % (params[0], params[1], params[2], params[3]))"
   ]
  },
  {
   "cell_type": "code",
   "execution_count": 150,
   "metadata": {},
   "outputs": [
    {
     "data": {
      "text/html": [
       "<table class=\"simpletable\">\n",
       "<caption>OLS Regression Results</caption>\n",
       "<tr>\n",
       "  <th>Dep. Variable:</th>            <td>y</td>        <th>  R-squared:         </th> <td>   0.998</td>\n",
       "</tr>\n",
       "<tr>\n",
       "  <th>Model:</th>                   <td>OLS</td>       <th>  Adj. R-squared:    </th> <td>   0.998</td>\n",
       "</tr>\n",
       "<tr>\n",
       "  <th>Method:</th>             <td>Least Squares</td>  <th>  F-statistic:       </th> <td>   7125.</td>\n",
       "</tr>\n",
       "<tr>\n",
       "  <th>Date:</th>             <td>Sat, 15 Feb 2020</td> <th>  Prob (F-statistic):</th> <td>2.37e-61</td>\n",
       "</tr>\n",
       "<tr>\n",
       "  <th>Time:</th>                 <td>19:34:33</td>     <th>  Log-Likelihood:    </th> <td> -69.859</td>\n",
       "</tr>\n",
       "<tr>\n",
       "  <th>No. Observations:</th>      <td>    50</td>      <th>  AIC:               </th> <td>   147.7</td>\n",
       "</tr>\n",
       "<tr>\n",
       "  <th>Df Residuals:</th>          <td>    46</td>      <th>  BIC:               </th> <td>   155.4</td>\n",
       "</tr>\n",
       "<tr>\n",
       "  <th>Df Model:</th>              <td>     3</td>      <th>                     </th>     <td> </td>   \n",
       "</tr>\n",
       "<tr>\n",
       "  <th>Covariance Type:</th>      <td>nonrobust</td>    <th>                     </th>     <td> </td>   \n",
       "</tr>\n",
       "</table>\n",
       "<table class=\"simpletable\">\n",
       "<tr>\n",
       "      <td></td>         <th>coef</th>     <th>std err</th>      <th>t</th>      <th>P>|t|</th>  <th>[0.025</th>    <th>0.975]</th>  \n",
       "</tr>\n",
       "<tr>\n",
       "  <th>Intercept</th> <td>   26.1813</td> <td>    0.144</td> <td>  181.476</td> <td> 0.000</td> <td>   25.891</td> <td>   26.472</td>\n",
       "</tr>\n",
       "<tr>\n",
       "  <th>x</th>         <td>    1.5779</td> <td>    1.382</td> <td>    1.142</td> <td> 0.259</td> <td>   -1.204</td> <td>    4.360</td>\n",
       "</tr>\n",
       "<tr>\n",
       "  <th>x_square</th>  <td>   22.0696</td> <td>    3.340</td> <td>    6.608</td> <td> 0.000</td> <td>   15.347</td> <td>   28.792</td>\n",
       "</tr>\n",
       "<tr>\n",
       "  <th>x_cube</th>    <td>   -2.5552</td> <td>    2.102</td> <td>   -1.215</td> <td> 0.230</td> <td>   -6.787</td> <td>    1.676</td>\n",
       "</tr>\n",
       "</table>\n",
       "<table class=\"simpletable\">\n",
       "<tr>\n",
       "  <th>Omnibus:</th>       <td> 1.054</td> <th>  Durbin-Watson:     </th> <td>   1.668</td>\n",
       "</tr>\n",
       "<tr>\n",
       "  <th>Prob(Omnibus):</th> <td> 0.590</td> <th>  Jarque-Bera (JB):  </th> <td>   0.964</td>\n",
       "</tr>\n",
       "<tr>\n",
       "  <th>Skew:</th>          <td> 0.132</td> <th>  Prob(JB):          </th> <td>   0.618</td>\n",
       "</tr>\n",
       "<tr>\n",
       "  <th>Kurtosis:</th>      <td> 2.374</td> <th>  Cond. No.          </th> <td>    49.1</td>\n",
       "</tr>\n",
       "</table><br/><br/>Warnings:<br/>[1] Standard Errors assume that the covariance matrix of the errors is correctly specified."
      ],
      "text/plain": [
       "<class 'statsmodels.iolib.summary.Summary'>\n",
       "\"\"\"\n",
       "                            OLS Regression Results                            \n",
       "==============================================================================\n",
       "Dep. Variable:                      y   R-squared:                       0.998\n",
       "Model:                            OLS   Adj. R-squared:                  0.998\n",
       "Method:                 Least Squares   F-statistic:                     7125.\n",
       "Date:                Sat, 15 Feb 2020   Prob (F-statistic):           2.37e-61\n",
       "Time:                        19:34:33   Log-Likelihood:                -69.859\n",
       "No. Observations:                  50   AIC:                             147.7\n",
       "Df Residuals:                      46   BIC:                             155.4\n",
       "Df Model:                           3                                         \n",
       "Covariance Type:            nonrobust                                         \n",
       "==============================================================================\n",
       "                 coef    std err          t      P>|t|      [0.025      0.975]\n",
       "------------------------------------------------------------------------------\n",
       "Intercept     26.1813      0.144    181.476      0.000      25.891      26.472\n",
       "x              1.5779      1.382      1.142      0.259      -1.204       4.360\n",
       "x_square      22.0696      3.340      6.608      0.000      15.347      28.792\n",
       "x_cube        -2.5552      2.102     -1.215      0.230      -6.787       1.676\n",
       "==============================================================================\n",
       "Omnibus:                        1.054   Durbin-Watson:                   1.668\n",
       "Prob(Omnibus):                  0.590   Jarque-Bera (JB):                0.964\n",
       "Skew:                           0.132   Prob(JB):                        0.618\n",
       "Kurtosis:                       2.374   Cond. No.                         49.1\n",
       "==============================================================================\n",
       "\n",
       "Warnings:\n",
       "[1] Standard Errors assume that the covariance matrix of the errors is correctly specified.\n",
       "\"\"\""
      ]
     },
     "execution_count": 150,
     "metadata": {},
     "output_type": "execute_result"
    }
   ],
   "source": [
    "ols_model_poly.summary()"
   ]
  },
  {
   "cell_type": "code",
   "execution_count": 148,
   "metadata": {},
   "outputs": [
    {
     "data": {
      "text/plain": [
       "<matplotlib.axes._subplots.AxesSubplot at 0x1f8eb5765c0>"
      ]
     },
     "execution_count": 148,
     "metadata": {},
     "output_type": "execute_result"
    },
    {
     "data": {
      "image/png": "[encoded data removed]",
      "text/plain": [
       "<Figure size 432x288 with 1 Axes>"
      ]
     },
     "metadata": {
      "needs_background": "light"
     },
     "output_type": "display_data"
    }
   ],
   "source": [
    "ax = sns.lineplot(x='x', y='predicted', data=sim_data_poly, color='red')\n",
    "sns.scatterplot(x='x', y='y', data=sim_data_poly, ax=ax)"
   ]
  },
  {
   "cell_type": "code",
   "execution_count": 149,
   "metadata": {},
   "outputs": [
    {
     "name": "stdout",
     "output_type": "stream",
     "text": [
      "The mean of the residuals = 0.000\n",
      "RMSE = 0.978\n"
     ]
    },
    {
     "data": {
      "image/png": "[encoded data removed]",
      "text/plain": [
       "<Figure size 720x288 with 2 Axes>"
      ]
     },
     "metadata": {
      "needs_background": "light"
     },
     "output_type": "display_data"
    },
    {
     "data": {
      "image/png": "[encoded data removed]",
      "text/plain": [
       "<Figure size 432x288 with 1 Axes>"
      ]
     },
     "metadata": {
      "needs_background": "light"
     },
     "output_type": "display_data"
    }
   ],
   "source": [
    "sim_data_poly['resids'] = np.subtract(sim_data_poly.predicted, sim_data_poly.y)\n",
    "\n",
    "print('The mean of the residuals = %4.3f' % (np.mean(sim_data_poly.resids)))\n",
    "## Print RMSE\n",
    "RMSE = np.std(sim_data_poly.resids)\n",
    "print('RMSE = %4.3f' % (RMSE))\n",
    "\n",
    "plot_resid_dist(sim_data_poly.resids)\n",
    "residual_plot(sim_data_poly)  "
   ]
  },
  {
   "cell_type": "markdown",
   "metadata": {},
   "source": [
    "# Your Turn:\n",
    "\n",
    "Compute a linear model using a straight line for the polynomial curve data. Compare the plots and the performance metrics. **Use a different model name and copy the dataframe to a new name so the notebook works correctly**"
   ]
  },
  {
   "cell_type": "code",
   "execution_count": null,
   "metadata": {
    "scrolled": false
   },
   "outputs": [],
   "source": [
    "mod_poly_linear = sm.ols(formula = 'y ~ x', data = reg_data_poly).fit()\n",
    "\n",
    "# Get most of the linear regression statistics we are interested in:\n",
    "print(mod_poly_linear.summary())\n",
    "\n",
    "# Plot a histogram of the residuals\n",
    "y5_pred_poly_linear = mod_poly_linear.predict(reg_data_poly['x'])\n",
    "\n",
    "plt.subplot(1, 2, 1)\n",
    "sns.distplot(mod_poly_linear.resid, hist=True)\n",
    "plt.grid(True)\n",
    "plt.xlabel('Residual')\n",
    "plt.ylabel('Frequency')\n",
    "plt.title('Residual Histogram (Linear on Polynomial)')\n",
    "\n",
    "plt.subplot(1, 2, 2)\n",
    "plt.scatter(reg_data_poly['x'], reg_data_poly['y'])\n",
    "plt.plot(reg_data_poly['x'], y5_pred_poly_linear, linewidth=2)\n",
    "plt.grid(True)\n",
    "plt.xlabel('x')\n",
    "plt.ylabel('y')\n",
    "plt.title('x vs y (Linear on Polynomial)')"
   ]
  },
  {
   "cell_type": "markdown",
   "metadata": {},
   "source": [
    "## Scaling Revisited\n",
    "\n",
    "# Your Turn:\n",
    "\n",
    "Now that you have worked with scaled and unscaled models and the various summary statistics try this exercise. Use the various summary and plotting capabilities we have demonstrated to compute model evaluations for the two (scaled and unscaled feature) straight line regression models you computed. Compare these results noticing the diffences. "
   ]
  },
  {
   "cell_type": "code",
   "execution_count": null,
   "metadata": {},
   "outputs": [],
   "source": []
  },
  {
   "cell_type": "markdown",
   "metadata": {},
   "source": [
    "## Homoscedastic and Heteroscedastic Errors\n",
    "\n",
    "Let's elaborate on some of the assumptions for the linear model. \n",
    "\n",
    "$$y_i = mx_i + b + \\epsilon_i \\\\\n",
    "where \\\\\n",
    "\\epsilon_i = N(0, \\sigma)$$\n",
    "\n",
    "In this model the errors, $\\epsilon_i$, do not depend on the dependent variable `y`. In this case we say the errors are **homoscedastic**.\n",
    "\n",
    "But what if:\n",
    "\n",
    "$$\\epsilon_i = N(0, f(x_i))\\\\\n",
    "such\\ as\\\\\n",
    "\\epsilon_i = N(0, e^{x_i})$$\n",
    "\n",
    "These errors are now **heteroscedastic**, with the errors dependent on `x` and hence not constant in `y`.\n",
    "\n",
    "Let's look at an example. In the code below the error increases linerly as `x` increases. Run this code and examine the result."
   ]
  },
  {
   "cell_type": "code",
   "execution_count": null,
   "metadata": {
    "scrolled": false
   },
   "outputs": [],
   "source": [
    "# Paramters of generated data\n",
    "n_points = 50\n",
    "x_start, x_end = 0, 10\n",
    "y_start, y_end = 0, 10\n",
    "y_sd = 5\n",
    "\n",
    "# Generate data columns\n",
    "x_data = np.linspace(x_start, x_end, n_points)\n",
    "y_error = np.random.normal(loc=0, scale=y_sd, size=n_points)\n",
    "# Now add heteroscedasticity to y_error\n",
    "y_error = y_error * np.linspace(0, 10, n_points)\n",
    "y_data = np.linspace(y_start, y_end, n_points) + y_error\n",
    "\n",
    "# Put data in dataframe\n",
    "het_data = pd.DataFrame({'x':x_data, 'y':y_data})\n",
    "\n",
    "het_data.head()\n",
    "\n",
    "#mod.het = lm(y ~ x, data = reg.data.het)\n",
    "#reg.data.het = reg.data.het\n",
    "#reg.data.het$score <- predict(mod.het, data = reg.data.het)\n",
    "#reg.data.het$resids <- reg.data.het$y - reg.data.het$score\n",
    "#plot.regression(reg.data.het, mod.het, k = 2)\n",
    "#summary(mod.het)\n",
    "#plot(mod.het)"
   ]
  },
  {
   "cell_type": "code",
   "execution_count": null,
   "metadata": {},
   "outputs": [],
   "source": [
    "# Fit linear model and plot results/summaries\n",
    "het_linear = sm.ols(formula = 'y ~ x', data = het_data).fit()\n",
    "\n",
    "# Get most of the linear regression statistics we are interested in:\n",
    "print(het_linear.summary())\n",
    "\n",
    "# Plot a histogram of the residuals\n",
    "y5_pred_het = het_linear.predict(het_data['x'])\n",
    "\n",
    "plt.subplot(1, 2, 1)\n",
    "sns.distplot(het_linear.resid, hist=True)\n",
    "plt.grid(True)\n",
    "plt.xlabel('Residual')\n",
    "plt.ylabel('Frequency')\n",
    "plt.title('Residual Histogram (Heteroscedastic Error)')\n",
    "\n",
    "plt.subplot(1, 2, 2)\n",
    "plt.scatter(het_data['x'], het_data['y'])\n",
    "plt.plot(het_data['x'], y5_pred_het, linewidth=2)\n",
    "plt.grid(True)\n",
    "plt.xlabel('x')\n",
    "plt.ylabel('y')\n",
    "plt.title('x vs y (Heteroscedastic Error)')"
   ]
  },
  {
   "cell_type": "code",
   "execution_count": null,
   "metadata": {},
   "outputs": [],
   "source": [
    "# Summary graphs:\n",
    "#import scipy.stats as stats\n",
    "#import statsmodels.api as statsmodels\n",
    "#from statsmodels.graphics.regressionplots import *\n",
    "\n",
    "# Residuals vs Fitted Values\n",
    "residuals = het_linear.resid\n",
    "fitted_vals = het_linear.predict(het_data['x'])\n",
    "plt.plot(fitted_vals, residuals, 'o')\n",
    "plt.xlabel('Fitted Values')\n",
    "plt.ylabel('Residuals')\n",
    "plt.title('Residuals vs. Fitted Values')\n",
    "\n",
    "# Create Q-Q Normal Plot of the Residuals\n",
    "statsmodels.qqplot(residuals, stats.norm, fit=True, line='45')\n",
    "\n",
    "# Fitted Values vs. Square Root of the Standardized Residuals\n",
    "standardized_resid = (het_linear.resid - np.min(het_linear.resid)) / np.max(het_linear.resid)\n",
    "\n",
    "# Leverage Plot (Cook's Distance)\n",
    "influence_plot(het_linear)\n",
    "\n",
    "# Additional stats models plots\n",
    "fig = plt.figure(figsize=(12,8))\n",
    "fig = statsmodels.graphics.plot_regress_exog(het_linear, \"x\", fig=fig)"
   ]
  },
  {
   "cell_type": "markdown",
   "metadata": {},
   "source": [
    "Notice the following about these results, which violate the homoscedastic error assumption:\n",
    "\n",
    "- The plot of residuals vs. the predicted value shows a systematic increase from left to right.\n",
    "- The Q-Q plot and the histogram show that the distribution of residuals has heavy tails and deviates from Normal.\n",
    "- The plot of the standardized residuals shows an increase from right to left on the plot."
   ]
  },
  {
   "cell_type": "markdown",
   "metadata": {},
   "source": [
    "## Leverage and Cook's Distance\n",
    "\n",
    "Up to now, we have only looked at regression models with Normally distributed noise or errors. But, in the real world there are errors and outliers in data. These errors and outliers can have greater or lesser effect, depending on how extreem they are and their placement with respect to the other data. \n",
    "\n",
    "You can imagine a regression line as a lever. Outliers that occur near the ends of the lever will have a greater influence all other factors being equal. \n",
    "\n",
    "One way to measure influence of a data point is Cook's distance, introduced by Dennis Cook in 1977. The influence for the `ith` data point can be computed as:\n",
    "\n",
    "$$D_i = \\frac{\\Sigma_{j=1}^n (\\hat{Y_j} - \\hat{Y_{j(i)}})^2}{n (p+1)\\hat{\\sigma^2}} \\\\\n",
    "where \\\\\n",
    "p = number\\ of\\ parameters\\\\\n",
    "n = number\\ of\\ data\\ points$$\n",
    "\n",
    "In effect, cooks distance compares the difference between means with and without a given data point. Computing Cook's distance can be moderately computationally intensive for large data set. Typically, Cook's distance is measured in units of standard deviation.\n",
    "\n",
    "Let's make these concepts concrete with an example. "
   ]
  },
  {
   "cell_type": "code",
   "execution_count": null,
   "metadata": {},
   "outputs": [],
   "source": [
    "sim_data.head()"
   ]
  },
  {
   "cell_type": "code",
   "execution_count": null,
   "metadata": {
    "scrolled": false
   },
   "outputs": [],
   "source": [
    "# Create new copy of original linear data\n",
    "outlier_data = sim_data[['x', 'y']].copy()\n",
    "# Add an outlier row\n",
    "outlier = pd.DataFrame([[0.0, 20.0]], columns = ['x', 'y'])\n",
    "outlier_data.append(outlier, ignore_index=True)\n",
    "\n",
    "# Scale data\n",
    "outlier_data['x_scaled'] = scale(outlier_data['x'])\n",
    "\n",
    "# Fit linear model\n",
    "outlier_linear = sm.ols(formula = 'y ~ x_scaled', data = outlier_data).fit()\n",
    "\n",
    "# Get most of the linear regression statistics we are interested in:\n",
    "print(outlier_linear.summary())\n",
    "\n",
    "# Plot a histogram of the residuals\n",
    "y_outlier = outlier_linear.predict(outlier_data['x_scaled'])\n",
    "\n",
    "plt.subplot(1, 2, 1)\n",
    "sns.distplot(outlier_linear.resid, hist=True)\n",
    "plt.grid(True)\n",
    "plt.xlabel('Residual')\n",
    "plt.ylabel('Frequency')\n",
    "plt.title('Residual Histogram (With 1 Outlier)')\n",
    "\n",
    "plt.subplot(1, 2, 2)\n",
    "plt.scatter(outlier_data['x_scaled'], outlier_data['y'])\n",
    "plt.plot(outlier_data['x_scaled'], y_outlier, linewidth=2)\n",
    "plt.grid(True)\n",
    "plt.xlabel('x')\n",
    "plt.ylabel('y')\n",
    "plt.title('x vs y (With 1 Outlier)')"
   ]
  },
  {
   "cell_type": "code",
   "execution_count": null,
   "metadata": {},
   "outputs": [],
   "source": [
    "# Get Linear Regression Summary Plots\n",
    "# Summary graphs:\n",
    "#import scipy.stats as stats\n",
    "#import statsmodels.api as statsmodels\n",
    "#from statsmodels.graphics.regressionplots import *\n",
    "\n",
    "# Residuals vs Fitted Values\n",
    "residuals = outlier_linear.resid\n",
    "fitted_vals = outlier_linear.predict(outlier_data['x_scaled'])\n",
    "plt.plot(fitted_vals, residuals, 'o')\n",
    "plt.xlabel('Fitted Values')\n",
    "plt.ylabel('Residuals')\n",
    "plt.title('Residuals vs. Fitted Values (w/ 1 outlier)')\n",
    "\n",
    "# Create Q-Q Normal Plot of the Residuals\n",
    "statsmodels.qqplot(residuals, stats.norm, fit=True, line='45')\n",
    "\n",
    "# Fitted Values vs. Square Root of the Standardized Residuals\n",
    "standardized_resid = (outlier_linear.resid - np.min(outlier_linear.resid)) / np.max(outlier_linear.resid)\n",
    "\n",
    "# Leverage Plot (Cook's Distance)\n",
    "influence_plot(outlier_linear)\n",
    "\n",
    "# Additional stats models plots\n",
    "fig = plt.figure(figsize=(12,8))\n",
    "fig = statsmodels.graphics.plot_regress_exog(outlier_linear, \"x_scaled\", fig=fig)"
   ]
  }
 ],
 "metadata": {
  "anaconda-cloud": {},
  "kernelspec": {
   "display_name": "Python 3",
   "language": "python",
   "name": "python3"
  },
  "language_info": {
   "codemirror_mode": {
    "name": "ipython",
    "version": 3
   },
   "file_extension": ".py",
   "mimetype": "text/x-python",
   "name": "python",
   "nbconvert_exporter": "python",
   "pygments_lexer": "ipython3",
   "version": "3.7.3"
  }
 },
 "nbformat": 4,
 "nbformat_minor": 1
}
